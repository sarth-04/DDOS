{
  "cells": [
    {
      "cell_type": "markdown",
      "metadata": {
        "id": "view-in-github",
        "colab_type": "text"
      },
      "source": [
        "<a href=\"https://colab.research.google.com/github/sarth-04/DDOS/blob/main/RL.ipynb\" target=\"_parent\"><img src=\"https://colab.research.google.com/assets/colab-badge.svg\" alt=\"Open In Colab\"/></a>"
      ]
    },
    {
      "cell_type": "markdown",
      "source": [
        "# Load the dataset"
      ],
      "metadata": {
        "id": "ehm3l-G2i7nA"
      }
    },
    {
      "cell_type": "code",
      "source": [
        "################# Load the Dataset###################\n",
        "#####################################################\n",
        "\n",
        "import pandas as pd\n",
        "\n",
        "# File paths: Modify the path as per your dataset location\n",
        "file_path = '/content/balanced_ddos_benign_dataset.csv'\n",
        "\n",
        "# Load the dataset using pandas\n",
        "try:\n",
        "    data = pd.read_csv(file_path)\n",
        "    print(\"Dataset successfully loaded!\")\n",
        "except FileNotFoundError as e:\n",
        "    print(f\"Error: {e}\")\n",
        "    print(\"Please check if the file path is correct.\")\n",
        "\n",
        "# Display basic information about the dataset\n",
        "print(\"\\nDataset Information:\")\n",
        "print(data.info())  # Shows column types and non-null counts\n",
        "\n",
        "print(\"\\nFirst 5 Rows of the Dataset:\")\n",
        "print(data.head())  # Displays the first 5 rows of the dataset to get an initial feel\n",
        "\n",
        "# Check for missing values in the dataset\n",
        "print(\"\\nMissing Values in Each Column:\")\n",
        "print(data.isnull().sum())  # Summarizes missing values for each column\n",
        "\n",
        "# Dataset size (rows and columns)\n",
        "print(\"\\nDataset Size (rows, columns):\")\n",
        "print(data.shape)\n"
      ],
      "metadata": {
        "colab": {
          "base_uri": "https://localhost:8080/"
        },
        "id": "my3jsRfli-mg",
        "outputId": "f683e1f3-39b4-4a0c-de12-8bada084684d"
      },
      "execution_count": 58,
      "outputs": [
        {
          "output_type": "stream",
          "name": "stdout",
          "text": [
            "Dataset successfully loaded!\n",
            "\n",
            "Dataset Information:\n",
            "<class 'pandas.core.frame.DataFrame'>\n",
            "RangeIndex: 20000 entries, 0 to 19999\n",
            "Data columns (total 85 columns):\n",
            " #   Column                        Non-Null Count  Dtype  \n",
            "---  ------                        --------------  -----  \n",
            " 0   Flow ID                       20000 non-null  object \n",
            " 1    Source IP                    20000 non-null  object \n",
            " 2    Source Port                  20000 non-null  int64  \n",
            " 3    Destination IP               20000 non-null  object \n",
            " 4    Destination Port             20000 non-null  int64  \n",
            " 5    Protocol                     20000 non-null  int64  \n",
            " 6    Timestamp                    20000 non-null  object \n",
            " 7    Flow Duration                20000 non-null  int64  \n",
            " 8    Total Fwd Packets            20000 non-null  int64  \n",
            " 9    Total Backward Packets       20000 non-null  int64  \n",
            " 10  Total Length of Fwd Packets   20000 non-null  int64  \n",
            " 11   Total Length of Bwd Packets  20000 non-null  int64  \n",
            " 12   Fwd Packet Length Max        20000 non-null  int64  \n",
            " 13   Fwd Packet Length Min        20000 non-null  int64  \n",
            " 14   Fwd Packet Length Mean       20000 non-null  float64\n",
            " 15   Fwd Packet Length Std        20000 non-null  float64\n",
            " 16  Bwd Packet Length Max         20000 non-null  int64  \n",
            " 17   Bwd Packet Length Min        20000 non-null  int64  \n",
            " 18   Bwd Packet Length Mean       20000 non-null  float64\n",
            " 19   Bwd Packet Length Std        20000 non-null  float64\n",
            " 20  Flow Bytes/s                  20000 non-null  float64\n",
            " 21   Flow Packets/s               20000 non-null  float64\n",
            " 22   Flow IAT Mean                20000 non-null  float64\n",
            " 23   Flow IAT Std                 20000 non-null  float64\n",
            " 24   Flow IAT Max                 20000 non-null  int64  \n",
            " 25   Flow IAT Min                 20000 non-null  int64  \n",
            " 26  Fwd IAT Total                 20000 non-null  int64  \n",
            " 27   Fwd IAT Mean                 20000 non-null  float64\n",
            " 28   Fwd IAT Std                  20000 non-null  float64\n",
            " 29   Fwd IAT Max                  20000 non-null  int64  \n",
            " 30   Fwd IAT Min                  20000 non-null  int64  \n",
            " 31  Bwd IAT Total                 20000 non-null  int64  \n",
            " 32   Bwd IAT Mean                 20000 non-null  float64\n",
            " 33   Bwd IAT Std                  20000 non-null  float64\n",
            " 34   Bwd IAT Max                  20000 non-null  int64  \n",
            " 35   Bwd IAT Min                  20000 non-null  int64  \n",
            " 36  Fwd PSH Flags                 20000 non-null  int64  \n",
            " 37   Bwd PSH Flags                20000 non-null  int64  \n",
            " 38   Fwd URG Flags                20000 non-null  int64  \n",
            " 39   Bwd URG Flags                20000 non-null  int64  \n",
            " 40   Fwd Header Length            20000 non-null  int64  \n",
            " 41   Bwd Header Length            20000 non-null  int64  \n",
            " 42  Fwd Packets/s                 20000 non-null  float64\n",
            " 43   Bwd Packets/s                20000 non-null  float64\n",
            " 44   Min Packet Length            20000 non-null  int64  \n",
            " 45   Max Packet Length            20000 non-null  int64  \n",
            " 46   Packet Length Mean           20000 non-null  float64\n",
            " 47   Packet Length Std            20000 non-null  float64\n",
            " 48   Packet Length Variance       20000 non-null  float64\n",
            " 49  FIN Flag Count                20000 non-null  int64  \n",
            " 50   SYN Flag Count               20000 non-null  int64  \n",
            " 51   RST Flag Count               20000 non-null  int64  \n",
            " 52   PSH Flag Count               20000 non-null  int64  \n",
            " 53   ACK Flag Count               20000 non-null  int64  \n",
            " 54   URG Flag Count               20000 non-null  int64  \n",
            " 55   CWE Flag Count               20000 non-null  int64  \n",
            " 56   ECE Flag Count               20000 non-null  int64  \n",
            " 57   Down/Up Ratio                20000 non-null  int64  \n",
            " 58   Average Packet Size          20000 non-null  float64\n",
            " 59   Avg Fwd Segment Size         20000 non-null  float64\n",
            " 60   Avg Bwd Segment Size         20000 non-null  float64\n",
            " 61   Fwd Header Length.1          20000 non-null  int64  \n",
            " 62  Fwd Avg Bytes/Bulk            20000 non-null  int64  \n",
            " 63   Fwd Avg Packets/Bulk         20000 non-null  int64  \n",
            " 64   Fwd Avg Bulk Rate            20000 non-null  int64  \n",
            " 65   Bwd Avg Bytes/Bulk           20000 non-null  int64  \n",
            " 66   Bwd Avg Packets/Bulk         20000 non-null  int64  \n",
            " 67  Bwd Avg Bulk Rate             20000 non-null  int64  \n",
            " 68  Subflow Fwd Packets           20000 non-null  int64  \n",
            " 69   Subflow Fwd Bytes            20000 non-null  int64  \n",
            " 70   Subflow Bwd Packets          20000 non-null  int64  \n",
            " 71   Subflow Bwd Bytes            20000 non-null  int64  \n",
            " 72  Init_Win_bytes_forward        20000 non-null  int64  \n",
            " 73   Init_Win_bytes_backward      20000 non-null  int64  \n",
            " 74   act_data_pkt_fwd             20000 non-null  int64  \n",
            " 75   min_seg_size_forward         20000 non-null  int64  \n",
            " 76  Active Mean                   20000 non-null  float64\n",
            " 77   Active Std                   20000 non-null  float64\n",
            " 78   Active Max                   20000 non-null  int64  \n",
            " 79   Active Min                   20000 non-null  int64  \n",
            " 80  Idle Mean                     20000 non-null  float64\n",
            " 81   Idle Std                     20000 non-null  float64\n",
            " 82   Idle Max                     20000 non-null  int64  \n",
            " 83   Idle Min                     20000 non-null  int64  \n",
            " 84   Label                        20000 non-null  object \n",
            "dtypes: float64(24), int64(56), object(5)\n",
            "memory usage: 13.0+ MB\n",
            "None\n",
            "\n",
            "First 5 Rows of the Dataset:\n",
            "                                   Flow ID      Source IP   Source Port  \\\n",
            "0      172.16.0.1-192.168.10.50-63900-80-6     172.16.0.1         63900   \n",
            "1  192.168.10.5-54.209.123.201-55466-443-6   192.168.10.5         55466   \n",
            "2     151.101.0.188-192.168.10.8-80-9971-6   192.168.10.8          9971   \n",
            "3      172.16.0.1-192.168.10.50-22657-80-6  192.168.10.50            80   \n",
            "4      172.16.0.1-192.168.10.50-17368-80-6     172.16.0.1         17368   \n",
            "\n",
            "   Destination IP   Destination Port   Protocol      Timestamp  \\\n",
            "0   192.168.10.50                 80          6  7/7/2017 4:04   \n",
            "1  54.209.123.201                443          6  7/7/2017 3:39   \n",
            "2   151.101.0.188                 80          6  7/7/2017 4:35   \n",
            "3      172.16.0.1              22657          6  7/7/2017 4:02   \n",
            "4   192.168.10.50                 80          6  7/7/2017 3:58   \n",
            "\n",
            "    Flow Duration   Total Fwd Packets   Total Backward Packets  ...  \\\n",
            "0         1625728                   3                        5  ...   \n",
            "1       113692097                  37                       29  ...   \n",
            "2         5713666                   3                        1  ...   \n",
            "3        10064382                   1                        5  ...   \n",
            "4         9933713                   5                        0  ...   \n",
            "\n",
            "    min_seg_size_forward  Active Mean   Active Std   Active Max   Active Min  \\\n",
            "0                     20       0.0000       0.0000            0            0   \n",
            "1                     20  681221.2727  933996.1724      2654132        50451   \n",
            "2                     20       0.0000       0.0000            0            0   \n",
            "3                     20   38717.0000       0.0000        38717        38717   \n",
            "4                     20     956.0000       0.0000          956          956   \n",
            "\n",
            "      Idle Mean     Idle Std   Idle Max   Idle Min   Label  \n",
            "0  0.000000e+00       0.0000          0          0    DDoS  \n",
            "1  9.489553e+06  947504.1522   10100000    7377205  BENIGN  \n",
            "2  0.000000e+00       0.0000          0          0  BENIGN  \n",
            "3  1.000000e+07       0.0000   10000000   10000000  BENIGN  \n",
            "4  9.932757e+06       0.0000    9932757    9932757    DDoS  \n",
            "\n",
            "[5 rows x 85 columns]\n",
            "\n",
            "Missing Values in Each Column:\n",
            "Flow ID              0\n",
            " Source IP           0\n",
            " Source Port         0\n",
            " Destination IP      0\n",
            " Destination Port    0\n",
            "                    ..\n",
            "Idle Mean            0\n",
            " Idle Std            0\n",
            " Idle Max            0\n",
            " Idle Min            0\n",
            " Label               0\n",
            "Length: 85, dtype: int64\n",
            "\n",
            "Dataset Size (rows, columns):\n",
            "(20000, 85)\n"
          ]
        }
      ]
    },
    {
      "cell_type": "markdown",
      "source": [
        "#Import Libraries"
      ],
      "metadata": {
        "id": "YZENr7TRjBO9"
      }
    },
    {
      "cell_type": "code",
      "source": [
        "################ Importing necessary libraries #######################\n",
        "######################################################################\n",
        "import pandas as pd\n",
        "import numpy as np\n",
        "import seaborn as sns\n",
        "import matplotlib.pyplot as plt\n",
        "from sklearn.preprocessing import LabelEncoder, StandardScaler\n",
        "from sklearn.model_selection import train_test_split\n",
        "import gym\n",
        "import tensorflow as tf\n",
        "from tensorflow.keras import models, layers\n",
        "import random\n",
        "from collections import deque\n"
      ],
      "metadata": {
        "colab": {
          "base_uri": "https://localhost:8080/"
        },
        "id": "3dftqiFfi_DG",
        "outputId": "45ef22e5-0824-4685-b8b2-ec86c7198368"
      },
      "execution_count": 59,
      "outputs": [
        {
          "output_type": "stream",
          "name": "stderr",
          "text": [
            "/usr/local/lib/python3.10/dist-packages/ipykernel/ipkernel.py:283: DeprecationWarning: `should_run_async` will not call `transform_cell` automatically in the future. Please pass the result to `transformed_cell` argument and any exception that happen during thetransform in `preprocessing_exc_tuple` in IPython 7.17 and above.\n",
            "  and should_run_async(code)\n"
          ]
        }
      ]
    },
    {
      "cell_type": "markdown",
      "source": [
        "# Load Data and Initial Preprocessing\n"
      ],
      "metadata": {
        "id": "m4m9UAxojKQj"
      }
    },
    {
      "cell_type": "code",
      "source": [
        "################### Load and Preprocess the Data #######################\n",
        "########################################################################\n",
        "\n",
        "# Assuming 'data' is the DataFrame loaded from CSV\n",
        "# data = pd.read_csv('path_to_your_dataset.csv')  # Uncomment to load your dataset\n",
        "\n",
        "# Verify the initial columns\n",
        "print(\"Initial Columns:\", data.columns)\n",
        "\n",
        "# Strip leading/trailing whitespaces from column names\n",
        "data.columns = data.columns.str.strip()\n",
        "\n",
        "# Drop irrelevant columns\n",
        "columns_to_drop = ['Flow ID', 'Source IP', 'Destination IP', 'Timestamp']\n",
        "data = data.drop(columns=columns_to_drop, inplace=False)\n",
        "print(f\"Dropped columns: {columns_to_drop}\")\n",
        "\n",
        "# Drop rows where 'Label' is missing\n",
        "data = data.dropna(subset=['Label'])\n",
        "print(\"Remaining Columns:\", data.columns)\n"
      ],
      "metadata": {
        "colab": {
          "base_uri": "https://localhost:8080/"
        },
        "id": "yaDE9_oTjIlA",
        "outputId": "125b4903-7998-4dd9-a6fb-213045b6425c"
      },
      "execution_count": 60,
      "outputs": [
        {
          "output_type": "stream",
          "name": "stdout",
          "text": [
            "Initial Columns: Index(['Flow ID', ' Source IP', ' Source Port', ' Destination IP',\n",
            "       ' Destination Port', ' Protocol', ' Timestamp', ' Flow Duration',\n",
            "       ' Total Fwd Packets', ' Total Backward Packets',\n",
            "       'Total Length of Fwd Packets', ' Total Length of Bwd Packets',\n",
            "       ' Fwd Packet Length Max', ' Fwd Packet Length Min',\n",
            "       ' Fwd Packet Length Mean', ' Fwd Packet Length Std',\n",
            "       'Bwd Packet Length Max', ' Bwd Packet Length Min',\n",
            "       ' Bwd Packet Length Mean', ' Bwd Packet Length Std', 'Flow Bytes/s',\n",
            "       ' Flow Packets/s', ' Flow IAT Mean', ' Flow IAT Std', ' Flow IAT Max',\n",
            "       ' Flow IAT Min', 'Fwd IAT Total', ' Fwd IAT Mean', ' Fwd IAT Std',\n",
            "       ' Fwd IAT Max', ' Fwd IAT Min', 'Bwd IAT Total', ' Bwd IAT Mean',\n",
            "       ' Bwd IAT Std', ' Bwd IAT Max', ' Bwd IAT Min', 'Fwd PSH Flags',\n",
            "       ' Bwd PSH Flags', ' Fwd URG Flags', ' Bwd URG Flags',\n",
            "       ' Fwd Header Length', ' Bwd Header Length', 'Fwd Packets/s',\n",
            "       ' Bwd Packets/s', ' Min Packet Length', ' Max Packet Length',\n",
            "       ' Packet Length Mean', ' Packet Length Std', ' Packet Length Variance',\n",
            "       'FIN Flag Count', ' SYN Flag Count', ' RST Flag Count',\n",
            "       ' PSH Flag Count', ' ACK Flag Count', ' URG Flag Count',\n",
            "       ' CWE Flag Count', ' ECE Flag Count', ' Down/Up Ratio',\n",
            "       ' Average Packet Size', ' Avg Fwd Segment Size',\n",
            "       ' Avg Bwd Segment Size', ' Fwd Header Length.1', 'Fwd Avg Bytes/Bulk',\n",
            "       ' Fwd Avg Packets/Bulk', ' Fwd Avg Bulk Rate', ' Bwd Avg Bytes/Bulk',\n",
            "       ' Bwd Avg Packets/Bulk', 'Bwd Avg Bulk Rate', 'Subflow Fwd Packets',\n",
            "       ' Subflow Fwd Bytes', ' Subflow Bwd Packets', ' Subflow Bwd Bytes',\n",
            "       'Init_Win_bytes_forward', ' Init_Win_bytes_backward',\n",
            "       ' act_data_pkt_fwd', ' min_seg_size_forward', 'Active Mean',\n",
            "       ' Active Std', ' Active Max', ' Active Min', 'Idle Mean', ' Idle Std',\n",
            "       ' Idle Max', ' Idle Min', ' Label'],\n",
            "      dtype='object')\n",
            "Dropped columns: ['Flow ID', 'Source IP', 'Destination IP', 'Timestamp']\n",
            "Remaining Columns: Index(['Source Port', 'Destination Port', 'Protocol', 'Flow Duration',\n",
            "       'Total Fwd Packets', 'Total Backward Packets',\n",
            "       'Total Length of Fwd Packets', 'Total Length of Bwd Packets',\n",
            "       'Fwd Packet Length Max', 'Fwd Packet Length Min',\n",
            "       'Fwd Packet Length Mean', 'Fwd Packet Length Std',\n",
            "       'Bwd Packet Length Max', 'Bwd Packet Length Min',\n",
            "       'Bwd Packet Length Mean', 'Bwd Packet Length Std', 'Flow Bytes/s',\n",
            "       'Flow Packets/s', 'Flow IAT Mean', 'Flow IAT Std', 'Flow IAT Max',\n",
            "       'Flow IAT Min', 'Fwd IAT Total', 'Fwd IAT Mean', 'Fwd IAT Std',\n",
            "       'Fwd IAT Max', 'Fwd IAT Min', 'Bwd IAT Total', 'Bwd IAT Mean',\n",
            "       'Bwd IAT Std', 'Bwd IAT Max', 'Bwd IAT Min', 'Fwd PSH Flags',\n",
            "       'Bwd PSH Flags', 'Fwd URG Flags', 'Bwd URG Flags', 'Fwd Header Length',\n",
            "       'Bwd Header Length', 'Fwd Packets/s', 'Bwd Packets/s',\n",
            "       'Min Packet Length', 'Max Packet Length', 'Packet Length Mean',\n",
            "       'Packet Length Std', 'Packet Length Variance', 'FIN Flag Count',\n",
            "       'SYN Flag Count', 'RST Flag Count', 'PSH Flag Count', 'ACK Flag Count',\n",
            "       'URG Flag Count', 'CWE Flag Count', 'ECE Flag Count', 'Down/Up Ratio',\n",
            "       'Average Packet Size', 'Avg Fwd Segment Size', 'Avg Bwd Segment Size',\n",
            "       'Fwd Header Length.1', 'Fwd Avg Bytes/Bulk', 'Fwd Avg Packets/Bulk',\n",
            "       'Fwd Avg Bulk Rate', 'Bwd Avg Bytes/Bulk', 'Bwd Avg Packets/Bulk',\n",
            "       'Bwd Avg Bulk Rate', 'Subflow Fwd Packets', 'Subflow Fwd Bytes',\n",
            "       'Subflow Bwd Packets', 'Subflow Bwd Bytes', 'Init_Win_bytes_forward',\n",
            "       'Init_Win_bytes_backward', 'act_data_pkt_fwd', 'min_seg_size_forward',\n",
            "       'Active Mean', 'Active Std', 'Active Max', 'Active Min', 'Idle Mean',\n",
            "       'Idle Std', 'Idle Max', 'Idle Min', 'Label'],\n",
            "      dtype='object')\n"
          ]
        }
      ]
    },
    {
      "cell_type": "markdown",
      "source": [
        "#Label Encoding"
      ],
      "metadata": {
        "id": "7s8_Z2uYjOvj"
      }
    },
    {
      "cell_type": "code",
      "source": [
        "############# Initialize LabelEncoder and encode 'Label' column ######\n",
        "######################################################################\n",
        "\n",
        "le = LabelEncoder()\n",
        "data['Label'] = le.fit_transform(data['Label'])\n",
        "\n",
        "# Verify the encoding\n",
        "print(\"Unique values in 'Label' after encoding:\", data['Label'].unique())\n",
        "\n",
        "# Print the label mapping\n",
        "label_mapping = dict(zip(le.classes_, le.transform(le.classes_)))\n",
        "print(\"Label Encoding Mapping:\", label_mapping)\n"
      ],
      "metadata": {
        "colab": {
          "base_uri": "https://localhost:8080/"
        },
        "id": "jOJ2wAXDjMdv",
        "outputId": "82044a4b-2a83-4359-fab1-3344441b015e"
      },
      "execution_count": 61,
      "outputs": [
        {
          "output_type": "stream",
          "name": "stdout",
          "text": [
            "Unique values in 'Label' after encoding: [1 0]\n",
            "Label Encoding Mapping: {'BENIGN': 0, 'DDoS': 1}\n"
          ]
        },
        {
          "output_type": "stream",
          "name": "stderr",
          "text": [
            "/usr/local/lib/python3.10/dist-packages/ipykernel/ipkernel.py:283: DeprecationWarning: `should_run_async` will not call `transform_cell` automatically in the future. Please pass the result to `transformed_cell` argument and any exception that happen during thetransform in `preprocessing_exc_tuple` in IPython 7.17 and above.\n",
            "  and should_run_async(code)\n"
          ]
        }
      ]
    },
    {
      "cell_type": "markdown",
      "source": [
        "# Handling Missing and Infinite Values"
      ],
      "metadata": {
        "id": "AzvbWqWRjSyN"
      }
    },
    {
      "cell_type": "code",
      "source": [
        "##### Identify numerical columns (excluding 'Label') #########\n",
        "##############################################################\n",
        "\n",
        "numerical_cols = data.select_dtypes(include=['int64', 'float64']).columns.tolist()\n",
        "numerical_cols.remove('Label')  # Don't scale the 'Label' column\n",
        "\n",
        "# Check for infinite values in numerical columns\n",
        "infinite_cols = data[numerical_cols].columns[np.isinf(data[numerical_cols]).any()].tolist()\n",
        "print(f\"Columns with infinite values: {infinite_cols}\")\n",
        "\n",
        "# Replace infinite values with the maximum finite value of that column\n",
        "for col in infinite_cols:\n",
        "    max_value = data[np.isfinite(data[col])][col].max()\n",
        "    data[col].replace([np.inf, -np.inf], max_value, inplace=True)\n",
        "    print(f\"Replaced infinite values in '{col}' with {max_value}\")\n"
      ],
      "metadata": {
        "colab": {
          "base_uri": "https://localhost:8080/"
        },
        "id": "ReQnfCf6jQhs",
        "outputId": "767cf41a-9632-40dd-bd2c-897be211ac7a"
      },
      "execution_count": 62,
      "outputs": [
        {
          "output_type": "stream",
          "name": "stdout",
          "text": [
            "Columns with infinite values: ['Flow Bytes/s', 'Flow Packets/s']\n",
            "Replaced infinite values in 'Flow Bytes/s' with 1040000000.0\n",
            "Replaced infinite values in 'Flow Packets/s' with 3000000.0\n"
          ]
        },
        {
          "output_type": "stream",
          "name": "stderr",
          "text": [
            "/usr/local/lib/python3.10/dist-packages/ipykernel/ipkernel.py:283: DeprecationWarning: `should_run_async` will not call `transform_cell` automatically in the future. Please pass the result to `transformed_cell` argument and any exception that happen during thetransform in `preprocessing_exc_tuple` in IPython 7.17 and above.\n",
            "  and should_run_async(code)\n",
            "<ipython-input-62-598fc64ee39c>:14: FutureWarning: A value is trying to be set on a copy of a DataFrame or Series through chained assignment using an inplace method.\n",
            "The behavior will change in pandas 3.0. This inplace method will never work because the intermediate object on which we are setting values always behaves as a copy.\n",
            "\n",
            "For example, when doing 'df[col].method(value, inplace=True)', try using 'df.method({col: value}, inplace=True)' or df[col] = df[col].method(value) instead, to perform the operation inplace on the original object.\n",
            "\n",
            "\n",
            "  data[col].replace([np.inf, -np.inf], max_value, inplace=True)\n"
          ]
        }
      ]
    },
    {
      "cell_type": "markdown",
      "source": [
        "# Standard Scaling"
      ],
      "metadata": {
        "id": "8SaoWKsejXvU"
      }
    },
    {
      "cell_type": "code",
      "source": [
        "################### Initialize the StandardScaler and scale the numerical columns ###########\n",
        "#############################################################################################\n",
        "\n",
        "scaler = StandardScaler()\n",
        "data[numerical_cols] = scaler.fit_transform(data[numerical_cols])\n",
        "\n",
        "# Verify scaling\n",
        "print(\"\\nFirst 5 rows of the scaled dataset:\")\n",
        "print(data.head())\n",
        "\n",
        "# Confirm that the mean is approximately 0 and std is approximately 1 for each feature\n",
        "scaled_summary = data[numerical_cols].describe().T[['mean', 'std']]\n",
        "print(\"\\nSummary statistics for scaled features (mean should be close to 0, std close to 1):\")\n",
        "print(scaled_summary)\n"
      ],
      "metadata": {
        "colab": {
          "base_uri": "https://localhost:8080/"
        },
        "id": "XsGBqTbYjVyv",
        "outputId": "16992372-976e-47bd-fbb6-f2b3689b44f5"
      },
      "execution_count": 63,
      "outputs": [
        {
          "output_type": "stream",
          "name": "stderr",
          "text": [
            "/usr/local/lib/python3.10/dist-packages/ipykernel/ipkernel.py:283: DeprecationWarning: `should_run_async` will not call `transform_cell` automatically in the future. Please pass the result to `transformed_cell` argument and any exception that happen during thetransform in `preprocessing_exc_tuple` in IPython 7.17 and above.\n",
            "  and should_run_async(code)\n"
          ]
        },
        {
          "output_type": "stream",
          "name": "stdout",
          "text": [
            "\n",
            "First 5 rows of the scaled dataset:\n",
            "   Source Port  Destination Port  Protocol  Flow Duration  Total Fwd Packets  \\\n",
            "0     1.128060         -0.486219 -0.443583      -0.459949          -0.103988   \n",
            "1     0.773765         -0.468866 -0.443583       3.111376           1.703983   \n",
            "2    -1.137384         -0.486219 -0.443583      -0.329675          -0.103988   \n",
            "3    -1.552884          0.593067 -0.443583      -0.191026          -0.210339   \n",
            "4    -0.826652         -0.486219 -0.443583      -0.195190           0.002364   \n",
            "\n",
            "   Total Backward Packets  Total Length of Fwd Packets  \\\n",
            "0                0.009977                    -0.317128   \n",
            "1                0.929884                     5.184530   \n",
            "2               -0.143341                    -0.321400   \n",
            "3                0.009977                     0.094504   \n",
            "4               -0.181670                    -0.315908   \n",
            "\n",
            "   Total Length of Bwd Packets  Fwd Packet Length Max  Fwd Packet Length Min  \\\n",
            "0                     0.111829              -0.300225              -0.181542   \n",
            "1                    -0.045229               0.510489              -0.147109   \n",
            "2                    -0.111925              -0.307100              -0.181542   \n",
            "3                    -0.111462               0.365140               7.709425   \n",
            "4                    -0.111925              -0.307100              -0.147109   \n",
            "\n",
            "   ...  min_seg_size_forward  Active Mean  Active Std  Active Max  Active Min  \\\n",
            "0  ...              -0.38463    -0.240997   -0.049118   -0.226687   -0.240019   \n",
            "1  ...              -0.38463     0.637720    2.725157    2.590019   -0.171599   \n",
            "2  ...              -0.38463    -0.240997   -0.049118   -0.226687   -0.240019   \n",
            "3  ...              -0.38463    -0.191055   -0.049118   -0.185598   -0.187512   \n",
            "4  ...              -0.38463    -0.239764   -0.049118   -0.225672   -0.238722   \n",
            "\n",
            "   Idle Mean  Idle Std  Idle Max  Idle Min  Label  \n",
            "0  -0.467769 -0.275506 -0.473218 -0.390410      1  \n",
            "1  -0.029995 -0.199275 -0.092818 -0.016636      0  \n",
            "2  -0.467769 -0.275506 -0.473218 -0.390410      0  \n",
            "3  -0.006447 -0.275506 -0.096584  0.116251      0  \n",
            "4  -0.009550 -0.275506 -0.099117  0.112844      1  \n",
            "\n",
            "[5 rows x 81 columns]\n",
            "\n",
            "Summary statistics for scaled features (mean should be close to 0, std close to 1):\n",
            "                           mean       std\n",
            "Source Port        4.192202e-17  1.000025\n",
            "Destination Port   8.881784e-18  1.000025\n",
            "Protocol           2.309264e-17  1.000025\n",
            "Flow Duration     -1.350031e-17  1.000025\n",
            "Total Fwd Packets  1.314504e-17  1.000025\n",
            "...                         ...       ...\n",
            "Active Min         1.492140e-17  1.000025\n",
            "Idle Mean          4.938272e-17  1.000025\n",
            "Idle Std           1.811884e-17  1.000025\n",
            "Idle Max           3.055334e-17  1.000025\n",
            "Idle Min          -1.669775e-17  1.000025\n",
            "\n",
            "[80 rows x 2 columns]\n"
          ]
        }
      ]
    },
    {
      "cell_type": "markdown",
      "source": [
        "#  Install Required Libraries"
      ],
      "metadata": {
        "id": "FL1MBrbjnefu"
      }
    },
    {
      "cell_type": "code",
      "source": [
        "!pip install gym stable-baselines3 torch\n"
      ],
      "metadata": {
        "colab": {
          "base_uri": "https://localhost:8080/"
        },
        "id": "ifQkB7g2jZ61",
        "outputId": "dfae6523-aa0a-41c0-a81d-5a2e1e6992e8"
      },
      "execution_count": 64,
      "outputs": [
        {
          "output_type": "stream",
          "name": "stderr",
          "text": [
            "/usr/local/lib/python3.10/dist-packages/ipykernel/ipkernel.py:283: DeprecationWarning: `should_run_async` will not call `transform_cell` automatically in the future. Please pass the result to `transformed_cell` argument and any exception that happen during thetransform in `preprocessing_exc_tuple` in IPython 7.17 and above.\n",
            "  and should_run_async(code)\n"
          ]
        },
        {
          "output_type": "stream",
          "name": "stdout",
          "text": [
            "Requirement already satisfied: gym in /usr/local/lib/python3.10/dist-packages (0.25.2)\n",
            "Requirement already satisfied: stable-baselines3 in /usr/local/lib/python3.10/dist-packages (2.4.0)\n",
            "Requirement already satisfied: torch in /usr/local/lib/python3.10/dist-packages (2.5.1+cu121)\n",
            "Requirement already satisfied: numpy>=1.18.0 in /usr/local/lib/python3.10/dist-packages (from gym) (1.26.4)\n",
            "Requirement already satisfied: cloudpickle>=1.2.0 in /usr/local/lib/python3.10/dist-packages (from gym) (3.1.0)\n",
            "Requirement already satisfied: gym_notices>=0.0.4 in /usr/local/lib/python3.10/dist-packages (from gym) (0.0.8)\n",
            "Requirement already satisfied: gymnasium<1.1.0,>=0.29.1 in /usr/local/lib/python3.10/dist-packages (from stable-baselines3) (1.0.0)\n",
            "Requirement already satisfied: pandas in /usr/local/lib/python3.10/dist-packages (from stable-baselines3) (2.2.2)\n",
            "Requirement already satisfied: matplotlib in /usr/local/lib/python3.10/dist-packages (from stable-baselines3) (3.8.0)\n",
            "Requirement already satisfied: filelock in /usr/local/lib/python3.10/dist-packages (from torch) (3.16.1)\n",
            "Requirement already satisfied: typing-extensions>=4.8.0 in /usr/local/lib/python3.10/dist-packages (from torch) (4.12.2)\n",
            "Requirement already satisfied: networkx in /usr/local/lib/python3.10/dist-packages (from torch) (3.4.2)\n",
            "Requirement already satisfied: jinja2 in /usr/local/lib/python3.10/dist-packages (from torch) (3.1.4)\n",
            "Requirement already satisfied: fsspec in /usr/local/lib/python3.10/dist-packages (from torch) (2024.10.0)\n",
            "Requirement already satisfied: sympy==1.13.1 in /usr/local/lib/python3.10/dist-packages (from torch) (1.13.1)\n",
            "Requirement already satisfied: mpmath<1.4,>=1.1.0 in /usr/local/lib/python3.10/dist-packages (from sympy==1.13.1->torch) (1.3.0)\n",
            "Requirement already satisfied: farama-notifications>=0.0.1 in /usr/local/lib/python3.10/dist-packages (from gymnasium<1.1.0,>=0.29.1->stable-baselines3) (0.0.4)\n",
            "Requirement already satisfied: MarkupSafe>=2.0 in /usr/local/lib/python3.10/dist-packages (from jinja2->torch) (3.0.2)\n",
            "Requirement already satisfied: contourpy>=1.0.1 in /usr/local/lib/python3.10/dist-packages (from matplotlib->stable-baselines3) (1.3.1)\n",
            "Requirement already satisfied: cycler>=0.10 in /usr/local/lib/python3.10/dist-packages (from matplotlib->stable-baselines3) (0.12.1)\n",
            "Requirement already satisfied: fonttools>=4.22.0 in /usr/local/lib/python3.10/dist-packages (from matplotlib->stable-baselines3) (4.55.3)\n",
            "Requirement already satisfied: kiwisolver>=1.0.1 in /usr/local/lib/python3.10/dist-packages (from matplotlib->stable-baselines3) (1.4.7)\n",
            "Requirement already satisfied: packaging>=20.0 in /usr/local/lib/python3.10/dist-packages (from matplotlib->stable-baselines3) (24.2)\n",
            "Requirement already satisfied: pillow>=6.2.0 in /usr/local/lib/python3.10/dist-packages (from matplotlib->stable-baselines3) (11.0.0)\n",
            "Requirement already satisfied: pyparsing>=2.3.1 in /usr/local/lib/python3.10/dist-packages (from matplotlib->stable-baselines3) (3.2.0)\n",
            "Requirement already satisfied: python-dateutil>=2.7 in /usr/local/lib/python3.10/dist-packages (from matplotlib->stable-baselines3) (2.8.2)\n",
            "Requirement already satisfied: pytz>=2020.1 in /usr/local/lib/python3.10/dist-packages (from pandas->stable-baselines3) (2024.2)\n",
            "Requirement already satisfied: tzdata>=2022.7 in /usr/local/lib/python3.10/dist-packages (from pandas->stable-baselines3) (2024.2)\n",
            "Requirement already satisfied: six>=1.5 in /usr/local/lib/python3.10/dist-packages (from python-dateutil>=2.7->matplotlib->stable-baselines3) (1.17.0)\n"
          ]
        }
      ]
    },
    {
      "cell_type": "markdown",
      "source": [
        "# Create a Custom Environment"
      ],
      "metadata": {
        "id": "xna15noKnile"
      }
    },
    {
      "cell_type": "code",
      "source": [
        "import gym\n",
        "from gym import spaces\n",
        "import numpy as np\n",
        "\n",
        "class DDoSEnv(gym.Env):\n",
        "    def __init__(self, data, labels):\n",
        "        super(DDoSEnv, self).__init__()\n",
        "\n",
        "        # Define the state space (continuous features)\n",
        "        self.observation_space = spaces.Box(\n",
        "            low=np.min(data, axis=0), high=np.max(data, axis=0), dtype=np.float32\n",
        "        )\n",
        "\n",
        "        # Define the action space (BENIGN = 0, DDoS = 1)\n",
        "        self.action_space = spaces.Discrete(2)\n",
        "\n",
        "        # Store the dataset\n",
        "        self.data = data\n",
        "        self.labels = labels\n",
        "        self.current_index = 0  # To track the current observation\n",
        "\n",
        "    def reset(self):\n",
        "        \"\"\"Reset the environment to an initial state and return the first observation.\"\"\"\n",
        "        self.current_index = 0\n",
        "        return self.data[self.current_index]\n",
        "\n",
        "    def step(self, action):\n",
        "        \"\"\"Take an action and return (next_state, reward, done, info).\"\"\"\n",
        "        # Get the true label for the current state\n",
        "        true_label = self.labels[self.current_index]\n",
        "\n",
        "        # Compute the reward: +1 for correct classification, -1 for incorrect\n",
        "        reward = 1 if action == true_label else -1\n",
        "\n",
        "        # Move to the next observation\n",
        "        self.current_index += 1\n",
        "        done = self.current_index >= len(self.data)  # Check if the episode is over\n",
        "\n",
        "        # Return the next state, reward, done flag, and optional info\n",
        "        if not done:\n",
        "            next_state = self.data[self.current_index]\n",
        "        else:\n",
        "            next_state = None\n",
        "\n",
        "        return next_state, reward, done, {}\n",
        "\n",
        "    def render(self, mode=\"human\"):\n",
        "        \"\"\"Optional: Print the current state (not required for RL training).\"\"\"\n",
        "        pass\n"
      ],
      "metadata": {
        "id": "Otv5b-W1ng4D"
      },
      "execution_count": 65,
      "outputs": []
    },
    {
      "cell_type": "markdown",
      "source": [
        "# Initialize the Environment"
      ],
      "metadata": {
        "id": "L6-Z1LpAnlzF"
      }
    },
    {
      "cell_type": "code",
      "source": [
        "# Separate features and labels from the preprocessed dataset\n",
        "X = data.drop(columns=[\"Label\"]).values  # Features\n",
        "y = data[\"Label\"].map({0: 0, 1: 1}).values  # Target labels\n",
        "\n",
        "# Initialize the custom environment\n",
        "env = DDoSEnv(data=X, labels=y)"
      ],
      "metadata": {
        "colab": {
          "base_uri": "https://localhost:8080/"
        },
        "id": "GoGVG5jFnj8t",
        "outputId": "eba8ef2e-3486-44c7-bbe8-982aeabea20a"
      },
      "execution_count": 66,
      "outputs": [
        {
          "output_type": "stream",
          "name": "stderr",
          "text": [
            "/usr/local/lib/python3.10/dist-packages/gym/spaces/box.py:128: UserWarning: \u001b[33mWARN: Box bound precision lowered by casting to float32\u001b[0m\n",
            "  logger.warn(f\"Box bound precision lowered by casting to {self.dtype}\")\n"
          ]
        }
      ]
    },
    {
      "cell_type": "markdown",
      "source": [
        "#Train the RL Model\n"
      ],
      "metadata": {
        "id": "uZBRV61ioW7m"
      }
    },
    {
      "cell_type": "code",
      "source": [
        "!pip install 'shimmy>=2.0'"
      ],
      "metadata": {
        "colab": {
          "base_uri": "https://localhost:8080/"
        },
        "id": "W1F8sI7wof14",
        "outputId": "71e45e7a-5ee7-4e25-a6ed-c4343c87726b"
      },
      "execution_count": 67,
      "outputs": [
        {
          "output_type": "stream",
          "name": "stderr",
          "text": [
            "/usr/local/lib/python3.10/dist-packages/ipykernel/ipkernel.py:283: DeprecationWarning: `should_run_async` will not call `transform_cell` automatically in the future. Please pass the result to `transformed_cell` argument and any exception that happen during thetransform in `preprocessing_exc_tuple` in IPython 7.17 and above.\n",
            "  and should_run_async(code)\n"
          ]
        },
        {
          "output_type": "stream",
          "name": "stdout",
          "text": [
            "Requirement already satisfied: shimmy>=2.0 in /usr/local/lib/python3.10/dist-packages (2.0.0)\n",
            "Requirement already satisfied: numpy>=1.18.0 in /usr/local/lib/python3.10/dist-packages (from shimmy>=2.0) (1.26.4)\n",
            "Requirement already satisfied: gymnasium>=1.0.0a1 in /usr/local/lib/python3.10/dist-packages (from shimmy>=2.0) (1.0.0)\n",
            "Requirement already satisfied: cloudpickle>=1.2.0 in /usr/local/lib/python3.10/dist-packages (from gymnasium>=1.0.0a1->shimmy>=2.0) (3.1.0)\n",
            "Requirement already satisfied: typing-extensions>=4.3.0 in /usr/local/lib/python3.10/dist-packages (from gymnasium>=1.0.0a1->shimmy>=2.0) (4.12.2)\n",
            "Requirement already satisfied: farama-notifications>=0.0.1 in /usr/local/lib/python3.10/dist-packages (from gymnasium>=1.0.0a1->shimmy>=2.0) (0.0.4)\n"
          ]
        }
      ]
    },
    {
      "cell_type": "code",
      "source": [
        "from stable_baselines3 import DQN\n",
        "from stable_baselines3.common.env_util import make_vec_env\n",
        "\n",
        "# Wrap the environment (optional but helps for efficiency)\n",
        "vec_env = make_vec_env(lambda: env, n_envs=1)\n",
        "\n",
        "# Initialize the DQN agent\n",
        "model = DQN(\"MlpPolicy\", vec_env, verbose=1)\n"
      ],
      "metadata": {
        "colab": {
          "base_uri": "https://localhost:8080/"
        },
        "id": "DfLX9etannHG",
        "outputId": "df5bd5e2-b817-47fd-e805-2087f45e07d8"
      },
      "execution_count": 68,
      "outputs": [
        {
          "output_type": "stream",
          "name": "stdout",
          "text": [
            "Using cpu device\n"
          ]
        },
        {
          "output_type": "stream",
          "name": "stderr",
          "text": [
            "/usr/local/lib/python3.10/dist-packages/stable_baselines3/common/vec_env/patch_gym.py:49: UserWarning: You provided an OpenAI Gym environment. We strongly recommend transitioning to Gymnasium environments. Stable-Baselines3 is automatically wrapping your environments in a compatibility layer, which could potentially cause issues.\n",
            "  warnings.warn(\n"
          ]
        }
      ]
    },
    {
      "cell_type": "markdown",
      "source": [
        "#Train the RL Agent"
      ],
      "metadata": {
        "id": "_jDCH7ZKoaEq"
      }
    },
    {
      "cell_type": "code",
      "source": [
        "# Train the model for 10,000 timesteps\n",
        "model.learn(total_timesteps=10000)\n",
        "\n",
        "# Save the trained model\n",
        "model.save(\"dqn_ddos_classifier\")\n"
      ],
      "metadata": {
        "colab": {
          "base_uri": "https://localhost:8080/"
        },
        "id": "v6z3iclVoYox",
        "outputId": "e969df2c-c4e8-4d95-95fb-287b0a95a2ba"
      },
      "execution_count": 69,
      "outputs": [
        {
          "output_type": "stream",
          "name": "stderr",
          "text": [
            "/usr/local/lib/python3.10/dist-packages/gym/core.py:256: DeprecationWarning: \u001b[33mWARN: Function `env.seed(seed)` is marked as deprecated and will be removed in the future. Please use `env.reset(seed=seed)` instead.\u001b[0m\n",
            "  deprecation(\n"
          ]
        }
      ]
    },
    {
      "cell_type": "markdown",
      "source": [
        "#Evaluate the RL Model"
      ],
      "metadata": {
        "id": "HdcT6Jd3o4KO"
      }
    },
    {
      "cell_type": "code",
      "source": [
        "# Load the trained model\n",
        "model = DQN.load(\"dqn_ddos_classifier\")\n",
        "\n",
        "# Reset the environment\n",
        "obs = env.reset()\n",
        "total_reward = 0\n",
        "\n",
        "# Simulate the agent in the environment\n",
        "for _ in range(len(X)):  # Number of data points\n",
        "    action, _states = model.predict(obs, deterministic=True)  # Predict the action\n",
        "    obs, reward, done, info = env.step(action)  # Take the action\n",
        "    total_reward += reward\n",
        "    if done:\n",
        "        break\n",
        "\n",
        "print(\"Total Reward:\", total_reward)\n"
      ],
      "metadata": {
        "colab": {
          "base_uri": "https://localhost:8080/"
        },
        "id": "dD5FnBc0oq8R",
        "outputId": "213758e6-e050-4c19-e003-ecac8cbf6d26"
      },
      "execution_count": 70,
      "outputs": [
        {
          "output_type": "stream",
          "name": "stdout",
          "text": [
            "Total Reward: 19460\n"
          ]
        }
      ]
    },
    {
      "cell_type": "code",
      "source": [
        "import matplotlib.pyplot as plt\n",
        "import numpy as np\n",
        "\n",
        "# Function to evaluate the RL model and calculate accuracy\n",
        "def evaluate_rl_model(env, model):\n",
        "    obs = env.reset()  # Reset the environment\n",
        "    correct_predictions = 0\n",
        "    total_predictions = len(env.data)  # Total data points\n",
        "    rewards = []  # Store rewards for plotting\n",
        "\n",
        "    for _ in range(total_predictions):\n",
        "        action, _ = model.predict(obs, deterministic=True)  # Predict the action\n",
        "        obs, reward, done, info = env.step(action)  # Take the action\n",
        "        rewards.append(reward)  # Append the reward\n",
        "\n",
        "        # Check if the prediction matches the actual label\n",
        "        if reward == 1:  # Reward is +1 for correct predictions\n",
        "            correct_predictions += 1\n",
        "\n",
        "        if done:\n",
        "            break\n",
        "\n",
        "    # Calculate accuracy\n",
        "    accuracy = correct_predictions / total_predictions * 100\n",
        "    return accuracy, rewards\n",
        "\n",
        "# Evaluate the model\n",
        "accuracy, rewards = evaluate_rl_model(env, model)\n",
        "\n",
        "# Print the accuracy\n",
        "print(f\"Model Accuracy: {accuracy:.2f}%\")\n",
        "\n",
        "# Plot the rewards for each step\n",
        "plt.figure(figsize=(10, 6))\n",
        "plt.plot(rewards, label=\"Reward per Step\", color=\"blue\")\n",
        "plt.axhline(0, color=\"red\", linestyle=\"--\", label=\"Neutral Reward\")\n",
        "plt.title(\"RL Model Evaluation - Rewards per Step\")\n",
        "plt.xlabel(\"Steps\")\n",
        "plt.ylabel(\"Reward\")\n",
        "plt.legend()\n",
        "plt.grid()\n",
        "plt.show()\n"
      ],
      "metadata": {
        "colab": {
          "base_uri": "https://localhost:8080/",
          "height": 581
        },
        "id": "W_Nq54rpo53u",
        "outputId": "21d72bb6-c97e-4370-fe78-9b126798a007"
      },
      "execution_count": 71,
      "outputs": [
        {
          "output_type": "stream",
          "name": "stdout",
          "text": [
            "Model Accuracy: 98.65%\n"
          ]
        },
        {
          "output_type": "display_data",
          "data": {
            "text/plain": [
              "<Figure size 1000x600 with 1 Axes>"
            ],
            "image/png": "[encoded data removed]"
          },
          "metadata": {}
        }
      ]
    }
  ],
  "metadata": {
    "colab": {
      "provenance": [],
      "include_colab_link": true
    },
    "kernelspec": {
      "display_name": "Python 3",
      "name": "python3"
    },
    "language_info": {
      "name": "python"
    }
  },
  "nbformat": 4,
  "nbformat_minor": 0
}