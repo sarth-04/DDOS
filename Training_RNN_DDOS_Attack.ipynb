{
  "nbformat": 4,
  "nbformat_minor": 0,
  "metadata": {
    "colab": {
      "name": "Training RNN DDOS Attack.ipynb",
      "private_outputs": true,
      "provenance": []
    },
    "kernelspec": {
      "name": "python3",
      "display_name": "Python 3"
    },
    "language_info": {
      "name": "python"
    },
    "accelerator": "GPU"
  },
  "cells": [
    {
      "cell_type": "code",
      "metadata": {
        "id": "G00TXkavxWCh"
      },
      "source": [
        "!pip install chainer"
      ],
      "execution_count": null,
      "outputs": []
    },
    {
      "cell_type": "code",
      "metadata": {
        "id": "Rz8oquTRwl4T"
      },
      "source": [
        "import numpy as np # linear algebra\n",
        "import pandas as pd # data processing, CSV file I/O (e.g. pd.read_csv)\n",
        "from subprocess import check_output\n",
        "import time\n",
        "import copy\n",
        "import numpy as np\n",
        "import pandas as pd\n",
        "import chainer\n",
        "import chainer.functions as F\n",
        "import chainer.links as L\n",
        "from plotly import tools\n",
        "from plotly.graph_objs import *\n",
        "from plotly.offline import init_notebook_mode, iplot, iplot_mpl\n",
        "import csv\n",
        "from google.colab import drive\n",
        "\n",
        "veri= pd.read_csv(\"/content/drive/MyDrive/DDos.pcap_ISCX.csv\", delimiter=',', skiprows=0, low_memory=False)\n",
        "veri.head()\n"
      ],
      "execution_count": null,
      "outputs": []
    },
    {
      "cell_type": "code",
      "metadata": {
        "id": "mekg_6Jdy9Ld"
      },
      "source": [
        "!pip install cupy-cuda101>=7.7.0"
      ],
      "execution_count": null,
      "outputs": []
    },
    {
      "cell_type": "code",
      "metadata": {
        "id": "056Vg_KRx2Eq"
      },
      "source": [
        "veri[' Label'].replace(['BENIGN','DDoS'],[0,1],inplace=True)"
      ],
      "execution_count": null,
      "outputs": []
    },
    {
      "cell_type": "code",
      "metadata": {
        "id": "57jd2ChIx2eY"
      },
      "source": [
        "moddf= veri.dropna()\n",
        "moddf.shape"
      ],
      "execution_count": null,
      "outputs": []
    },
    {
      "cell_type": "code",
      "metadata": {
        "id": "Lff-9mcBx573"
      },
      "source": [
        "moddf.isna().any()[lambda x:x]"
      ],
      "execution_count": null,
      "outputs": []
    },
    {
      "cell_type": "code",
      "metadata": {
        "id": "VihLJBnUzG2y"
      },
      "source": [
        "del moddf[' Flow Packets/s']"
      ],
      "execution_count": null,
      "outputs": []
    },
    {
      "cell_type": "code",
      "metadata": {
        "id": "nLNHNXs3zHTp"
      },
      "source": [
        "moddf.shape"
      ],
      "execution_count": null,
      "outputs": []
    },
    {
      "cell_type": "code",
      "metadata": {
        "id": "fcZqukCizSyl"
      },
      "source": [
        "features=[\" Destination Port\" , \"Bwd Packet Length Max\", \" Bwd Packet Length Mean\" , \" Bwd Packet Length Std\", \" Packet Length Mean\", \" URG Flag Count\", \" Average Packet Size\", \" Avg Bwd Segment Size\",\" Flow Duration\",\" Total Fwd Packets\",\" Subflow Bwd Packets\",\" Label\"]"
      ],
      "execution_count": null,
      "outputs": []
    },
    {
      "cell_type": "code",
      "metadata": {
        "id": "EQXopEeWzWCN"
      },
      "source": [
        "len(features)"
      ],
      "execution_count": null,
      "outputs": []
    },
    {
      "cell_type": "code",
      "metadata": {
        "id": "jt2BDfxbzXLo"
      },
      "source": [
        "X=moddf[features].copy()\n",
        "X.head()"
      ],
      "execution_count": null,
      "outputs": []
    },
    {
      "cell_type": "code",
      "metadata": {
        "id": "kKc_ZoW5zYu4"
      },
      "source": [
        "giris = X.iloc[:,0:10]\n",
        "cikis = X.iloc[:,-1]"
      ],
      "execution_count": null,
      "outputs": []
    },
    {
      "cell_type": "code",
      "metadata": {
        "id": "4Ikio9XqzaFF"
      },
      "source": [
        "print(cikis)"
      ],
      "execution_count": null,
      "outputs": []
    },
    {
      "cell_type": "code",
      "metadata": {
        "id": "xs7TieK_zb6N"
      },
      "source": [
        "from sklearn.model_selection import train_test_split as tts\n",
        "xtrain, xtest, ytrain, ytest = tts(giris, cikis, test_size=0.2)\n",
        "xtrain"
      ],
      "execution_count": null,
      "outputs": []
    },
    {
      "cell_type": "code",
      "metadata": {
        "id": "iwv4onSfzeD5"
      },
      "source": [
        "\n",
        "import tensorflow as tf\n",
        "from keras.layers import Dense, BatchNormalization, Dropout, LSTM, Bidirectional\n",
        "from keras.models import Sequential\n",
        "from tensorflow.keras.utils import to_categorical\n",
        "from keras.optimizers import Adam\n",
        "from tensorflow.keras import regularizers\n",
        "from sklearn.metrics import precision_score, recall_score, confusion_matrix, classification_report, accuracy_score, f1_score\n",
        "from keras import callbacks\n",
        "from tensorflow.keras.callbacks import EarlyStopping"
      ],
      "execution_count": null,
      "outputs": []
    },
    {
      "cell_type": "code",
      "metadata": {
        "id": "4t5S8tSdzftW"
      },
      "source": [
        "#Early stopping\n",
        "early_stopping = callbacks.EarlyStopping(\n",
        "    min_delta=0.001, # minimium amount of change to count as an improvement\n",
        "    patience=20, # how many epochs to wait before stopping\n",
        "    restore_best_weights=True,\n",
        ")"
      ],
      "execution_count": null,
      "outputs": []
    },
    {
      "cell_type": "code",
      "metadata": {
        "id": "uI1z7Xqr2rHr"
      },
      "source": [
        "x_train , y_train = np.array(xtrain), np.array(ytrain)\n",
        "x_train = np.reshape(x_train, (xtrain.shape[0] , xtrain.shape[1], 1) )"
      ],
      "execution_count": null,
      "outputs": []
    },
    {
      "cell_type": "code",
      "metadata": {
        "id": "fGkr-dzNznYB"
      },
      "source": [
        "regressor = Sequential()\n",
        "regressor.add(Bidirectional(LSTM(units=10, return_sequences=True, input_shape = (x_train.shape[1],1) ) )) #çıktı uzayının boyutu\n",
        "regressor.add(Dropout(0.2))\n",
        "regressor.add(LSTM(units= 10 , return_sequences=True))\n",
        "regressor.add(Dropout(0.2))\n",
        "regressor.add(LSTM(units= 10 , return_sequences=True))\n",
        "regressor.add(Dropout(0.2))\n",
        "regressor.add(LSTM(units= 10))\n",
        "regressor.add(Dropout(0.2))\n",
        "regressor.add(Dense(units = 1,activation='sigmoid'))\n",
        "regressor.compile(optimizer='adam', loss='binary_crossentropy',metrics=['acc'])\n",
        "regressor.fit(x_train, y_train, epochs=10,batch_size=128 )"
      ],
      "execution_count": null,
      "outputs": []
    },
    {
      "cell_type": "code",
      "metadata": {
        "id": "XTQq8v3S1GvZ"
      },
      "source": [
        "trainloss=regressor.evaluate(x_train,y_train,verbose=0)"
      ],
      "execution_count": null,
      "outputs": []
    },
    {
      "cell_type": "code",
      "metadata": {
        "id": "SBoQK2EH8ZE_"
      },
      "source": [
        "x_test , y_test = np.array(xtest), np.array(ytest)\n",
        "x_test = np.reshape(x_test, (xtest.shape[0] , xtest.shape[1], 1) )"
      ],
      "execution_count": null,
      "outputs": []
    },
    {
      "cell_type": "code",
      "metadata": {
        "id": "KgKUMfQr2ACU"
      },
      "source": [
        "testloss=regressor.evaluate(x_test,y_test,verbose=0)"
      ],
      "execution_count": null,
      "outputs": []
    },
    {
      "cell_type": "code",
      "metadata": {
        "id": "3qZ-BIjF8obT"
      },
      "source": [
        "predict = regressor.predict(x_test)"
      ],
      "execution_count": null,
      "outputs": []
    },
    {
      "cell_type": "code",
      "metadata": {
        "id": "N3MhCaYa_jjM"
      },
      "source": [
        "xtest.shape[1]"
      ],
      "execution_count": null,
      "outputs": []
    },
    {
      "cell_type": "code",
      "metadata": {
        "id": "qfVXfSed8rQq"
      },
      "source": [
        "predict"
      ],
      "execution_count": null,
      "outputs": []
    },
    {
      "cell_type": "code",
      "metadata": {
        "id": "jf3ToXy88uON"
      },
      "source": [
        "predDf = pd.DataFrame(y_test,columns=[\"Real predictions:\"])"
      ],
      "execution_count": null,
      "outputs": []
    },
    {
      "cell_type": "code",
      "metadata": {
        "id": "R2MN5QDz86bL"
      },
      "source": [
        "predDf"
      ],
      "execution_count": null,
      "outputs": []
    },
    {
      "cell_type": "code",
      "metadata": {
        "id": "WVg_SsWf89O8"
      },
      "source": [
        "predDf2 = pd.Series(predict.reshape(45149,))\n",
        "predDf2"
      ],
      "execution_count": null,
      "outputs": []
    },
    {
      "cell_type": "code",
      "metadata": {
        "id": "HZde04Kd9gjK"
      },
      "source": [
        "pred_results=pd.concat([predDf,predDf2],axis=1)\n",
        "pred_results"
      ],
      "execution_count": null,
      "outputs": []
    },
    {
      "cell_type": "code",
      "metadata": {
        "id": "99e7M3IE98dP"
      },
      "source": [
        "pred_results.columns=['Real_Values', 'Predicted_Values']"
      ],
      "execution_count": null,
      "outputs": []
    },
    {
      "cell_type": "code",
      "metadata": {
        "id": "SnEqZMP7-RN9"
      },
      "source": [
        "pred_results"
      ],
      "execution_count": null,
      "outputs": []
    },
    {
      "cell_type": "code",
      "metadata": {
        "id": "bBtGEZ6E-TVv"
      },
      "source": [
        "from sklearn.metrics import mean_absolute_error,mean_squared_error\n",
        "errorAb=mean_absolute_error(pred_results[\"Real_Values\"], pred_results[\"Predicted_Values\"])\n",
        "errorSQ=mean_squared_error(pred_results[\"Real_Values\"], pred_results[\"Predicted_Values\"])"
      ],
      "execution_count": null,
      "outputs": []
    },
    {
      "cell_type": "code",
      "metadata": {
        "id": "Fpm4O9wm-vk_"
      },
      "source": [
        "errorAb"
      ],
      "execution_count": null,
      "outputs": []
    },
    {
      "cell_type": "code",
      "metadata": {
        "id": "irBfJoX9_LNM"
      },
      "source": [
        "errorSQ"
      ],
      "execution_count": null,
      "outputs": []
    },
    {
      "cell_type": "code",
      "metadata": {
        "id": "kYN9o5GD_ZRx"
      },
      "source": [
        "predict"
      ],
      "execution_count": null,
      "outputs": []
    },
    {
      "cell_type": "code",
      "metadata": {
        "id": "Ca_fu6mw_08o"
      },
      "source": [
        "regressor = Sequential()\n",
        "regressor.add(Bidirectional(LSTM(units=10, return_sequences=True, input_shape = (x_train.shape[1],1) ) )) #çıktı uzayının boyutu\n",
        "regressor.add(Dropout(0.2))\n",
        "regressor.add(LSTM(units= 10 , return_sequences=True))\n",
        "regressor.add(Dropout(0.2))\n",
        "regressor.add(LSTM(units= 10 , return_sequences=True))\n",
        "regressor.add(Dropout(0.2))\n",
        "regressor.add(LSTM(units= 10))\n",
        "regressor.add(Dropout(0.2))\n",
        "regressor.add(Dense(units = 1,activation='sigmoid'))\n",
        "regressor.compile(optimizer='adam', loss='binary_crossentropy',metrics=['acc'])\n",
        "history=regressor.fit(x_train, y_train, epochs=3,batch_size=64 )"
      ],
      "execution_count": null,
      "outputs": []
    },
    {
      "cell_type": "code",
      "metadata": {
        "id": "5whq6uV1AKC5"
      },
      "source": [
        "print(history.history.keys())\n",
        "# summarize history for accuracy\n",
        "plt.plot(history.history['acc'])\n",
        "plt.title('model accuracy')\n",
        "plt.ylabel('accuracy')\n",
        "plt.xlabel('epoch')\n",
        "plt.legend(['train', 'test'], loc='upper left')\n",
        "plt.show()\n",
        "# summarize history for loss\n",
        "plt.plot(history.history['loss'])\n",
        "plt.title('model loss')\n",
        "plt.ylabel('loss')\n",
        "plt.xlabel('epoch')\n",
        "plt.legend(['train', 'test'], loc='upper left')\n",
        "plt.show()"
      ],
      "execution_count": null,
      "outputs": []
    }
  ]
}